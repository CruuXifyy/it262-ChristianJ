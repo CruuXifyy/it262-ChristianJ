{
  "nbformat": 4,
  "nbformat_minor": 0,
  "metadata": {
    "colab": {
      "name": "ChristianJ_AlternativeA.ipynb",
      "provenance": [],
      "collapsed_sections": [],
      "authorship_tag": "ABX9TyMhPSKdCptmrmntubXmIDUl",
      "include_colab_link": true
    },
    "kernelspec": {
      "name": "python3",
      "display_name": "Python 3"
    },
    "language_info": {
      "name": "python"
    }
  },
  "cells": [
    {
      "cell_type": "markdown",
      "metadata": {
        "id": "view-in-github",
        "colab_type": "text"
      },
      "source": [
        "<a href=\"https://colab.research.google.com/github/CruuXifyy/it262-ChristianJ/blob/main/ChristianJ_AlternativeA.ipynb\" target=\"_parent\"><img src=\"https://colab.research.google.com/assets/colab-badge.svg\" alt=\"Open In Colab\"/></a>"
      ]
    },
    {
      "cell_type": "code",
      "execution_count": 18,
      "metadata": {
        "colab": {
          "base_uri": "https://localhost:8080/"
        },
        "id": "Umpbw69Ws4_1",
        "outputId": "db4104ed-2830-40e5-f846-c00ede9983e1"
      },
      "outputs": [
        {
          "output_type": "stream",
          "name": "stdout",
          "text": [
            "Empty DataFrame\n",
            "Columns: [criteria, weight, ratingA, ratingB, scoreA, scoreB]\n",
            "Index: []\n"
          ]
        }
      ],
      "source": [
        "import pandas as pd \n",
        "import math\n",
        "\n",
        "#create a dataframe for out alternative analysis matrix \n",
        "AA=pd.DataFrame(columns=['criteria','weight','ratingA','ratingB','scoreA','scoreB'])\n",
        "print(AA)"
      ]
    },
    {
      "cell_type": "code",
      "source": [
        "#first step add a list of criteria\n",
        "AA['critera']=['risk','ROI','customerSatisfaction','feasibility','strategicalAlignment']\n",
        "print(AA)"
      ],
      "metadata": {
        "colab": {
          "base_uri": "https://localhost:8080/"
        },
        "id": "9TJzFZ-stsK1",
        "outputId": "c9e76355-f817-494a-e97f-57bd647d9062"
      },
      "execution_count": 19,
      "outputs": [
        {
          "output_type": "stream",
          "name": "stdout",
          "text": [
            "  criteria weight ratingA ratingB scoreA scoreB               critera\n",
            "0      NaN    NaN     NaN     NaN    NaN    NaN                  risk\n",
            "1      NaN    NaN     NaN     NaN    NaN    NaN                   ROI\n",
            "2      NaN    NaN     NaN     NaN    NaN    NaN  customerSatisfaction\n",
            "3      NaN    NaN     NaN     NaN    NaN    NaN           feasibility\n",
            "4      NaN    NaN     NaN     NaN    NaN    NaN  strategicalAlignment\n"
          ]
        }
      ]
    },
    {
      "cell_type": "code",
      "source": [
        "#second step: identify weights\n",
        "#weights show relative importance of each criterion\n",
        "#they must add up to 1 (or 100 if you use percentages)\n",
        "AA['weight']=[0.1,0.15,0.3,.15,.3]\n",
        "print(AA)"
      ],
      "metadata": {
        "colab": {
          "base_uri": "https://localhost:8080/"
        },
        "id": "NFMbqH-YuTki",
        "outputId": "72625e18-e7c2-4ee1-b0da-31ebec96c6f0"
      },
      "execution_count": 20,
      "outputs": [
        {
          "output_type": "stream",
          "name": "stdout",
          "text": [
            "  criteria  weight ratingA ratingB scoreA scoreB               critera\n",
            "0      NaN    0.10     NaN     NaN    NaN    NaN                  risk\n",
            "1      NaN    0.15     NaN     NaN    NaN    NaN                   ROI\n",
            "2      NaN    0.30     NaN     NaN    NaN    NaN  customerSatisfaction\n",
            "3      NaN    0.15     NaN     NaN    NaN    NaN           feasibility\n",
            "4      NaN    0.30     NaN     NaN    NaN    NaN  strategicalAlignment\n"
          ]
        }
      ]
    },
    {
      "cell_type": "code",
      "source": [
        "#step 3: rate each alternatie across all criteria\n",
        "#choose a scale: 1-5 or 1-7 or 1-10, or 1-3\n",
        "#higher number: an alternative is doing better with respect to that specific criterion\n",
        "\n",
        "AA['ratingA']=[4,1,2,1,5]\n",
        "AA['ratingB']=[3,4,2,3,2]\n",
        "\n",
        "#step 4: calculate partial scores by multiplying wights * ratings\n",
        "#using iterrows() in Python is no recommended - is an anti pattern\n",
        "\n",
        "for index, row in AA.iterrows():\n",
        "  AA['scoreA'][index]=row['ratingA']*row['weight']\n",
        "  AA['scoreB'][index]=row['ratingB']*row['weight']\n",
        "\n",
        "print(AA)"
      ],
      "metadata": {
        "colab": {
          "base_uri": "https://localhost:8080/"
        },
        "id": "nRkKgkFzu4TN",
        "outputId": "ede8e74d-fd9c-49d3-a859-a5ac899e5532"
      },
      "execution_count": 21,
      "outputs": [
        {
          "output_type": "stream",
          "name": "stdout",
          "text": [
            "  criteria  weight  ratingA  ratingB scoreA scoreB               critera\n",
            "0      NaN    0.10        4        3    0.4    0.3                  risk\n",
            "1      NaN    0.15        1        4   0.15    0.6                   ROI\n",
            "2      NaN    0.30        2        2    0.6    0.6  customerSatisfaction\n",
            "3      NaN    0.15        1        3   0.15   0.45           feasibility\n",
            "4      NaN    0.30        5        2    1.5    0.6  strategicalAlignment\n"
          ]
        },
        {
          "output_type": "stream",
          "name": "stderr",
          "text": [
            "/usr/local/lib/python3.7/dist-packages/ipykernel_launcher.py:12: SettingWithCopyWarning: \n",
            "A value is trying to be set on a copy of a slice from a DataFrame\n",
            "\n",
            "See the caveats in the documentation: https://pandas.pydata.org/pandas-docs/stable/user_guide/indexing.html#returning-a-view-versus-a-copy\n",
            "  if sys.path[0] == '':\n",
            "/usr/local/lib/python3.7/dist-packages/ipykernel_launcher.py:13: SettingWithCopyWarning: \n",
            "A value is trying to be set on a copy of a slice from a DataFrame\n",
            "\n",
            "See the caveats in the documentation: https://pandas.pydata.org/pandas-docs/stable/user_guide/indexing.html#returning-a-view-versus-a-copy\n",
            "  del sys.path[0]\n"
          ]
        }
      ]
    },
    {
      "cell_type": "code",
      "source": [
        "#step 5: add partial scores to get the total scores\n",
        "#which solution is the winner? the one with the highest total score                      \n",
        "totalScoreA=0\n",
        "totalScoreB=0\n",
        "for index, row in AA.iterrows():\n",
        "  totalScoreA+=row['scoreA']\n",
        "  totalScoreB+=row['scoreB']\n",
        "\n",
        "print('total score for alternative A is {:.2f} and for B is {:.2f}'.format(totalScoreA, totalScoreB))"
      ],
      "metadata": {
        "colab": {
          "base_uri": "https://localhost:8080/"
        },
        "id": "mxqQx9zjwTb0",
        "outputId": "4bdef102-e2f5-4c7f-961e-c281f42b6ca6"
      },
      "execution_count": 22,
      "outputs": [
        {
          "output_type": "stream",
          "name": "stdout",
          "text": [
            "total score for alternative A is 2.80 and for B is 2.55\n"
          ]
        }
      ]
    }
  ]
}