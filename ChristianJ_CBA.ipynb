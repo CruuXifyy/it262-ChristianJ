{
  "nbformat": 4,
  "nbformat_minor": 0,
  "metadata": {
    "colab": {
      "name": "ChristianJ_CBA.ipynb",
      "provenance": [],
      "collapsed_sections": [],
      "authorship_tag": "ABX9TyMH0I6Yy/4vjugSAPHohnv5",
      "include_colab_link": true
    },
    "kernelspec": {
      "name": "python3",
      "display_name": "Python 3"
    },
    "language_info": {
      "name": "python"
    }
  },
  "cells": [
    {
      "cell_type": "markdown",
      "metadata": {
        "id": "view-in-github",
        "colab_type": "text"
      },
      "source": [
        "<a href=\"https://colab.research.google.com/github/CruuXifyy/it262-ChristianJ/blob/main/ChristianJ_CBA.ipynb\" target=\"_parent\"><img src=\"https://colab.research.google.com/assets/colab-badge.svg\" alt=\"Open In Colab\"/></a>"
      ]
    },
    {
      "cell_type": "code",
      "source": [
        "import pandas as pd\n",
        "import math\n",
        "\n",
        "#reading data into a pandas dataframe\n",
        "\n",
        "dataT=pd.read_csv('/content/drive/MyDrive/IT 262/262-CBA.csv')\n",
        "print(dataT)"
      ],
      "metadata": {
        "colab": {
          "base_uri": "https://localhost:8080/"
        },
        "id": "PzJAzfLis8yt",
        "outputId": "703d1bf3-ce85-4c79-f57e-320d765a6155"
      },
      "execution_count": 8,
      "outputs": [
        {
          "output_type": "stream",
          "name": "stdout",
          "text": [
            "   years  developmentCost  operationalCost  valueOfBenefits\n",
            "0      0             -100                0                0\n",
            "1      1              -30              -10               25\n",
            "2      2                0              -15               55\n",
            "3      3                0              -15               85\n"
          ]
        }
      ]
    },
    {
      "cell_type": "code",
      "source": [
        "discountRate=0.05\n",
        "\n",
        "discountFactor=[0,0,0,0]\n",
        "\n",
        "for year in dataT['years']:\n",
        "  discountFactor[year]=1/math.pow(1+discountRate, year)\n",
        "\n",
        "dataT['discountFactor']=[round(num,2) for num in discountFactor]\n",
        "print(dataT)"
      ],
      "metadata": {
        "colab": {
          "base_uri": "https://localhost:8080/"
        },
        "id": "tJmv7TgtvATq",
        "outputId": "82389551-2ec6-4474-f752-ef93700318f0"
      },
      "execution_count": 14,
      "outputs": [
        {
          "output_type": "stream",
          "name": "stdout",
          "text": [
            "   years  developmentCost  ...  discountFactor  NetBC\n",
            "0      0             -100  ...            1.00   -100\n",
            "1      1              -30  ...            0.95    -15\n",
            "2      2                0  ...            0.91     40\n",
            "3      3                0  ...            0.86     70\n",
            "\n",
            "[4 rows x 6 columns]\n"
          ]
        }
      ]
    },
    {
      "cell_type": "code",
      "source": [
        "#calculate Net benefit/cost for each year\n",
        "#you sum all the benefit and cost values\n",
        "\n",
        "#initialize a list of 4 - i have years 0 to 4\n",
        "NetBC=[0,0,0,0]\n",
        "\n",
        "for year in dataT['years']:\n",
        "  NetBC[year]=dataT['developmentCost'][year]+dataT['operationalCost'][year]+dataT['valueOfBenefits'][year]\n",
        "\n",
        "dataT['NetBC']=NetBC\n",
        "print(dataT)"
      ],
      "metadata": {
        "colab": {
          "base_uri": "https://localhost:8080/"
        },
        "id": "DSueYqYgvt5x",
        "outputId": "14e29e99-2638-4fb2-8195-ece933e8a4e9"
      },
      "execution_count": 18,
      "outputs": [
        {
          "output_type": "stream",
          "name": "stdout",
          "text": [
            "   years  developmentCost  operationalCost  ...  discountFactor  NetBC     NPV\n",
            "0      0             -100                0  ...            1.00   -100 -100.00\n",
            "1      1              -30              -10  ...            0.95    -15  -14.25\n",
            "2      2                0              -15  ...            0.91     40   36.40\n",
            "3      3                0              -15  ...            0.86     70   60.20\n",
            "\n",
            "[4 rows x 7 columns]\n"
          ]
        }
      ]
    },
    {
      "cell_type": "code",
      "source": [
        "#calculate net present value\n",
        "\n",
        "#initialize an empty list of 4 items - 1 for each year\n",
        "NPV=[0,0,0,0]\n",
        "\n",
        "for year in dataT['years']:\n",
        "  NPV[year]=dataT['NetBC'][year]*dataT['discountFactor'][year]\n",
        "\n",
        "dataT['NPV']=[round(num,2) for num in NPV]\n",
        "print(dataT)"
      ],
      "metadata": {
        "colab": {
          "base_uri": "https://localhost:8080/"
        },
        "id": "NHfuuoRxxaic",
        "outputId": "303435d0-4d96-471d-bdf1-38bcd19addd5"
      },
      "execution_count": 17,
      "outputs": [
        {
          "output_type": "stream",
          "name": "stdout",
          "text": [
            "   years  developmentCost  operationalCost  ...  discountFactor  NetBC     NPV\n",
            "0      0             -100                0  ...            1.00   -100 -100.00\n",
            "1      1              -30              -10  ...            0.95    -15  -14.25\n",
            "2      2                0              -15  ...            0.91     40   36.40\n",
            "3      3                0              -15  ...            0.86     70   60.20\n",
            "\n",
            "[4 rows x 7 columns]\n"
          ]
        }
      ]
    }
  ]
}